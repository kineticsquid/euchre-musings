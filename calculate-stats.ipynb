{
 "cells": [
  {
   "cell_type": "code",
   "execution_count": 1,
   "metadata": {},
   "outputs": [],
   "source": [
    "import numpy as np\n",
    "import matplotlib.pyplot as plt\n",
    "import pandas as pd"
   ]
  },
  {
   "cell_type": "code",
   "execution_count": 2,
   "metadata": {},
   "outputs": [],
   "source": [
    "import compute_scores"
   ]
  },
  {
   "cell_type": "code",
   "execution_count": 3,
   "metadata": {},
   "outputs": [
    {
     "name": "stdout",
     "output_type": "stream",
     "text": [
      "Deck size: 24\n",
      "Hand size: 5\n",
      "Calculated combinations: 42504\n",
      "Enumerated combinations: 42504\n",
      "100000 combinations processed - 2.1 sec\n",
      "200000 combinations processed - 4.3 sec\n",
      "300000 combinations processed - 6.4 sec\n",
      "400000 combinations processed - 8.6 sec\n",
      "500000 combinations processed - 10.8 sec\n",
      "600000 combinations processed - 12.9 sec\n",
      "700000 combinations processed - 14.9 sec\n",
      "800000 combinations processed - 16.9 sec\n",
      "807576 combinations processed - 17.1 sec\n"
     ]
    }
   ],
   "source": [
    "dealer_scores, non_dealer_scores, second_round_scores = compute_scores.calculate_all_possible_scores()"
   ]
  },
  {
   "cell_type": "code",
   "execution_count": 4,
   "metadata": {},
   "outputs": [
    {
     "name": "stdout",
     "output_type": "stream",
     "text": [
      "Max dealer score: 15\n",
      "Max non-dealer score: 14\n",
      "Max second round score: 15\n",
      "\n",
      "Average dealer score: 6.6\n",
      "Average non-dealer score: 2.3\n",
      "Average second round score: 7.0\n"
     ]
    }
   ],
   "source": [
    "print(\"Max dealer score: %s\" % max(dealer_scores))\n",
    "print(\"Max non-dealer score: %s\" % max(non_dealer_scores))\n",
    "print(\"Max second round score: %s\" % max(second_round_scores))\n",
    "print()\n",
    "print(\"Average dealer score: %.1f\" % np.mean(dealer_scores))\n",
    "print(\"Average non-dealer score: %.1f\" % np.mean(non_dealer_scores))\n",
    "print(\"Average second round score: %.1f\" % np.mean(second_round_scores))"
   ]
  },
  {
   "cell_type": "code",
   "execution_count": 20,
   "metadata": {},
   "outputs": [
    {
     "data": {
      "text/plain": [
       "Text(0.5, 1.0, 'Euchre Dealer Hand Scores')"
      ]
     },
     "execution_count": 20,
     "metadata": {},
     "output_type": "execute_result"
    },
    {
     "data": {
      "image/png": "[encoded data removed]",
      "text/plain": [
       "<Figure size 432x288 with 1 Axes>"
      ]
     },
     "metadata": {
      "needs_background": "light"
     },
     "output_type": "display_data"
    }
   ],
   "source": [
    "hist, bins, patches = plt.hist(x=dealer_scores, range=(0, max(dealer_scores)), \n",
    "                            bins=max(dealer_scores), color='#0504aa', alpha=0.7, rwidth=0.85)\n",
    "plt.grid(axis='y', alpha=0.75)\n",
    "plt.xlabel('Hand Score')\n",
    "plt.ylabel('Frequency')\n",
    "plt.title('Euchre Dealer Hand Scores')"
   ]
  },
  {
   "cell_type": "code",
   "execution_count": 21,
   "metadata": {},
   "outputs": [
    {
     "name": "stdout",
     "output_type": "stream",
     "text": [
      "[     0.  12000.  23936.  58504.  80768. 113960. 117420. 120540.  94812.\n",
      "  77884.  48252.  31480.  16132.   7960.   3928.]\n",
      "[ 0.  1.  2.  3.  4.  5.  6.  7.  8.  9. 10. 11. 12. 13. 14. 15.]\n"
     ]
    },
    {
     "data": {
      "text/html": [
       "<div>\n",
       "<style scoped>\n",
       "    .dataframe tbody tr th:only-of-type {\n",
       "        vertical-align: middle;\n",
       "    }\n",
       "\n",
       "    .dataframe tbody tr th {\n",
       "        vertical-align: top;\n",
       "    }\n",
       "\n",
       "    .dataframe thead th {\n",
       "        text-align: right;\n",
       "    }\n",
       "</style>\n",
       "<table border=\"1\" class=\"dataframe\">\n",
       "  <thead>\n",
       "    <tr style=\"text-align: right;\">\n",
       "      <th></th>\n",
       "      <th>Count</th>\n",
       "      <th>%</th>\n",
       "      <th>Cumulative %</th>\n",
       "    </tr>\n",
       "  </thead>\n",
       "  <tbody>\n",
       "    <tr>\n",
       "      <th>0</th>\n",
       "      <td>0.0</td>\n",
       "      <td>0.000000</td>\n",
       "      <td>0.000000</td>\n",
       "    </tr>\n",
       "    <tr>\n",
       "      <th>1</th>\n",
       "      <td>12000.0</td>\n",
       "      <td>1.485928</td>\n",
       "      <td>1.485928</td>\n",
       "    </tr>\n",
       "    <tr>\n",
       "      <th>2</th>\n",
       "      <td>23936.0</td>\n",
       "      <td>2.963932</td>\n",
       "      <td>4.449860</td>\n",
       "    </tr>\n",
       "    <tr>\n",
       "      <th>3</th>\n",
       "      <td>58504.0</td>\n",
       "      <td>7.244396</td>\n",
       "      <td>11.694255</td>\n",
       "    </tr>\n",
       "    <tr>\n",
       "      <th>4</th>\n",
       "      <td>80768.0</td>\n",
       "      <td>10.001288</td>\n",
       "      <td>21.695543</td>\n",
       "    </tr>\n",
       "    <tr>\n",
       "      <th>5</th>\n",
       "      <td>113960.0</td>\n",
       "      <td>14.111365</td>\n",
       "      <td>35.806909</td>\n",
       "    </tr>\n",
       "    <tr>\n",
       "      <th>6</th>\n",
       "      <td>117420.0</td>\n",
       "      <td>14.539808</td>\n",
       "      <td>50.346717</td>\n",
       "    </tr>\n",
       "    <tr>\n",
       "      <th>7</th>\n",
       "      <td>120540.0</td>\n",
       "      <td>14.926149</td>\n",
       "      <td>65.272866</td>\n",
       "    </tr>\n",
       "    <tr>\n",
       "      <th>8</th>\n",
       "      <td>94812.0</td>\n",
       "      <td>11.740319</td>\n",
       "      <td>77.013185</td>\n",
       "    </tr>\n",
       "    <tr>\n",
       "      <th>9</th>\n",
       "      <td>77884.0</td>\n",
       "      <td>9.644170</td>\n",
       "      <td>86.657355</td>\n",
       "    </tr>\n",
       "    <tr>\n",
       "      <th>10</th>\n",
       "      <td>48252.0</td>\n",
       "      <td>5.974918</td>\n",
       "      <td>92.632272</td>\n",
       "    </tr>\n",
       "    <tr>\n",
       "      <th>11</th>\n",
       "      <td>31480.0</td>\n",
       "      <td>3.898085</td>\n",
       "      <td>96.530358</td>\n",
       "    </tr>\n",
       "    <tr>\n",
       "      <th>12</th>\n",
       "      <td>16132.0</td>\n",
       "      <td>1.997583</td>\n",
       "      <td>98.527940</td>\n",
       "    </tr>\n",
       "    <tr>\n",
       "      <th>13</th>\n",
       "      <td>7960.0</td>\n",
       "      <td>0.985666</td>\n",
       "      <td>99.513606</td>\n",
       "    </tr>\n",
       "    <tr>\n",
       "      <th>14</th>\n",
       "      <td>3928.0</td>\n",
       "      <td>0.486394</td>\n",
       "      <td>100.000000</td>\n",
       "    </tr>\n",
       "  </tbody>\n",
       "</table>\n",
       "</div>"
      ],
      "text/plain": [
       "       Count          %  Cumulative %\n",
       "0        0.0   0.000000      0.000000\n",
       "1    12000.0   1.485928      1.485928\n",
       "2    23936.0   2.963932      4.449860\n",
       "3    58504.0   7.244396     11.694255\n",
       "4    80768.0  10.001288     21.695543\n",
       "5   113960.0  14.111365     35.806909\n",
       "6   117420.0  14.539808     50.346717\n",
       "7   120540.0  14.926149     65.272866\n",
       "8    94812.0  11.740319     77.013185\n",
       "9    77884.0   9.644170     86.657355\n",
       "10   48252.0   5.974918     92.632272\n",
       "11   31480.0   3.898085     96.530358\n",
       "12   16132.0   1.997583     98.527940\n",
       "13    7960.0   0.985666     99.513606\n",
       "14    3928.0   0.486394    100.000000"
      ]
     },
     "execution_count": 21,
     "metadata": {},
     "output_type": "execute_result"
    }
   ],
   "source": [
    "print(hist)\n",
    "print(bins)\n",
    "total = sum(hist)\n",
    "cumulative_pct = 0\n",
    "table_data = []\n",
    "\n",
    "for entry in hist:\n",
    "    pct = entry / total * 100\n",
    "    cumulative_pct += pct\n",
    "    table_data.append([entry, pct, cumulative_pct])\n",
    "df = pd.DataFrame(table_data, columns=[\"Count\", \"%\", \"Cumulative %\"])\n",
    "df"
   ]
  },
  {
   "cell_type": "code",
   "execution_count": 22,
   "metadata": {},
   "outputs": [
    {
     "data": {
      "text/plain": [
       "Text(0.5, 1.0, 'Euchre Non-Dealer Hand Scores')"
      ]
     },
     "execution_count": 22,
     "metadata": {},
     "output_type": "execute_result"
    },
    {
     "data": {
      "image/png": "[encoded data removed]",
      "text/plain": [
       "<Figure size 432x288 with 1 Axes>"
      ]
     },
     "metadata": {
      "needs_background": "light"
     },
     "output_type": "display_data"
    }
   ],
   "source": [
    "hist, bins, patches = plt.hist(x=non_dealer_scores, range=(0, max(non_dealer_scores)), \n",
    "                            bins=max(non_dealer_scores), color='#0504aa', alpha=0.7, rwidth=0.85)\n",
    "plt.grid(axis='y', alpha=0.75)\n",
    "plt.xlabel('Hand Score')\n",
    "plt.ylabel('Frequency')\n",
    "plt.title('Euchre Non-Dealer Hand Scores')"
   ]
  },
  {
   "cell_type": "code",
   "execution_count": 23,
   "metadata": {},
   "outputs": [
    {
     "name": "stdout",
     "output_type": "stream",
     "text": [
      "[ 81984. 123824. 105864. 106876.  85416.  64184.  44256.  27064.  16780.\n",
      "   7812.   4108.   1636.    672.    192.]\n",
      "[ 0.  1.  2.  3.  4.  5.  6.  7.  8.  9. 10. 11. 12. 13. 14.]\n"
     ]
    },
    {
     "data": {
      "text/html": [
       "<div>\n",
       "<style scoped>\n",
       "    .dataframe tbody tr th:only-of-type {\n",
       "        vertical-align: middle;\n",
       "    }\n",
       "\n",
       "    .dataframe tbody tr th {\n",
       "        vertical-align: top;\n",
       "    }\n",
       "\n",
       "    .dataframe thead th {\n",
       "        text-align: right;\n",
       "    }\n",
       "</style>\n",
       "<table border=\"1\" class=\"dataframe\">\n",
       "  <thead>\n",
       "    <tr style=\"text-align: right;\">\n",
       "      <th></th>\n",
       "      <th>Count</th>\n",
       "      <th>%</th>\n",
       "      <th>Cumulative %</th>\n",
       "    </tr>\n",
       "  </thead>\n",
       "  <tbody>\n",
       "    <tr>\n",
       "      <th>0</th>\n",
       "      <td>81984.0</td>\n",
       "      <td>12.224230</td>\n",
       "      <td>12.224230</td>\n",
       "    </tr>\n",
       "    <tr>\n",
       "      <th>1</th>\n",
       "      <td>123824.0</td>\n",
       "      <td>18.462786</td>\n",
       "      <td>30.687017</td>\n",
       "    </tr>\n",
       "    <tr>\n",
       "      <th>2</th>\n",
       "      <td>105864.0</td>\n",
       "      <td>15.784859</td>\n",
       "      <td>46.471876</td>\n",
       "    </tr>\n",
       "    <tr>\n",
       "      <th>3</th>\n",
       "      <td>106876.0</td>\n",
       "      <td>15.935754</td>\n",
       "      <td>62.407629</td>\n",
       "    </tr>\n",
       "    <tr>\n",
       "      <th>4</th>\n",
       "      <td>85416.0</td>\n",
       "      <td>12.735959</td>\n",
       "      <td>75.143588</td>\n",
       "    </tr>\n",
       "    <tr>\n",
       "      <th>5</th>\n",
       "      <td>64184.0</td>\n",
       "      <td>9.570160</td>\n",
       "      <td>84.713748</td>\n",
       "    </tr>\n",
       "    <tr>\n",
       "      <th>6</th>\n",
       "      <td>44256.0</td>\n",
       "      <td>6.598794</td>\n",
       "      <td>91.312542</td>\n",
       "    </tr>\n",
       "    <tr>\n",
       "      <th>7</th>\n",
       "      <td>27064.0</td>\n",
       "      <td>4.035380</td>\n",
       "      <td>95.347922</td>\n",
       "    </tr>\n",
       "    <tr>\n",
       "      <th>8</th>\n",
       "      <td>16780.0</td>\n",
       "      <td>2.501983</td>\n",
       "      <td>97.849905</td>\n",
       "    </tr>\n",
       "    <tr>\n",
       "      <th>9</th>\n",
       "      <td>7812.0</td>\n",
       "      <td>1.164809</td>\n",
       "      <td>99.014714</td>\n",
       "    </tr>\n",
       "    <tr>\n",
       "      <th>10</th>\n",
       "      <td>4108.0</td>\n",
       "      <td>0.612524</td>\n",
       "      <td>99.627237</td>\n",
       "    </tr>\n",
       "    <tr>\n",
       "      <th>11</th>\n",
       "      <td>1636.0</td>\n",
       "      <td>0.243936</td>\n",
       "      <td>99.871173</td>\n",
       "    </tr>\n",
       "    <tr>\n",
       "      <th>12</th>\n",
       "      <td>672.0</td>\n",
       "      <td>0.100199</td>\n",
       "      <td>99.971372</td>\n",
       "    </tr>\n",
       "    <tr>\n",
       "      <th>13</th>\n",
       "      <td>192.0</td>\n",
       "      <td>0.028628</td>\n",
       "      <td>100.000000</td>\n",
       "    </tr>\n",
       "  </tbody>\n",
       "</table>\n",
       "</div>"
      ],
      "text/plain": [
       "       Count          %  Cumulative %\n",
       "0    81984.0  12.224230     12.224230\n",
       "1   123824.0  18.462786     30.687017\n",
       "2   105864.0  15.784859     46.471876\n",
       "3   106876.0  15.935754     62.407629\n",
       "4    85416.0  12.735959     75.143588\n",
       "5    64184.0   9.570160     84.713748\n",
       "6    44256.0   6.598794     91.312542\n",
       "7    27064.0   4.035380     95.347922\n",
       "8    16780.0   2.501983     97.849905\n",
       "9     7812.0   1.164809     99.014714\n",
       "10    4108.0   0.612524     99.627237\n",
       "11    1636.0   0.243936     99.871173\n",
       "12     672.0   0.100199     99.971372\n",
       "13     192.0   0.028628    100.000000"
      ]
     },
     "execution_count": 23,
     "metadata": {},
     "output_type": "execute_result"
    }
   ],
   "source": [
    "print(hist)\n",
    "print(bins)\n",
    "total = sum(hist)\n",
    "cumulative_pct = 0\n",
    "table_data = []\n",
    "\n",
    "for entry in hist:\n",
    "    pct = entry / total * 100\n",
    "    cumulative_pct += pct\n",
    "    table_data.append([entry, pct, cumulative_pct])\n",
    "df = pd.DataFrame(table_data, columns=[\"Count\", \"%\", \"Cumulative %\"])\n",
    "df"
   ]
  },
  {
   "cell_type": "code",
   "execution_count": 24,
   "metadata": {},
   "outputs": [
    {
     "data": {
      "text/plain": [
       "Text(0.5, 1.0, 'Euchre Second Round Hand Scores')"
      ]
     },
     "execution_count": 24,
     "metadata": {},
     "output_type": "execute_result"
    },
    {
     "data": {
      "image/png": "[encoded data removed]",
      "text/plain": [
       "<Figure size 432x288 with 1 Axes>"
      ]
     },
     "metadata": {
      "needs_background": "light"
     },
     "output_type": "display_data"
    }
   ],
   "source": [
    "hist, bins, patches = plt.hist(x=second_round_scores, range=(0, max(second_round_scores)), \n",
    "                            bins=max(second_round_scores), color='#0504aa', alpha=0.7, rwidth=0.85)\n",
    "plt.grid(axis='y', alpha=0.75)\n",
    "plt.xlabel('Hand Score')\n",
    "plt.ylabel('Frequency')\n",
    "plt.title('Euchre Second Round Hand Scores')"
   ]
  },
  {
   "cell_type": "code",
   "execution_count": 25,
   "metadata": {},
   "outputs": [
    {
     "name": "stdout",
     "output_type": "stream",
     "text": [
      "[     0.      0.   5776.  41344.  50692. 120992. 131936. 144096. 117496.\n",
      "  91276.  50388.  32300.  13072.   6308.   1900.]\n",
      "[ 0.  1.  2.  3.  4.  5.  6.  7.  8.  9. 10. 11. 12. 13. 14. 15.]\n"
     ]
    },
    {
     "data": {
      "text/html": [
       "<div>\n",
       "<style scoped>\n",
       "    .dataframe tbody tr th:only-of-type {\n",
       "        vertical-align: middle;\n",
       "    }\n",
       "\n",
       "    .dataframe tbody tr th {\n",
       "        vertical-align: top;\n",
       "    }\n",
       "\n",
       "    .dataframe thead th {\n",
       "        text-align: right;\n",
       "    }\n",
       "</style>\n",
       "<table border=\"1\" class=\"dataframe\">\n",
       "  <thead>\n",
       "    <tr style=\"text-align: right;\">\n",
       "      <th></th>\n",
       "      <th>Count</th>\n",
       "      <th>%</th>\n",
       "      <th>Cumulative %</th>\n",
       "    </tr>\n",
       "  </thead>\n",
       "  <tbody>\n",
       "    <tr>\n",
       "      <th>0</th>\n",
       "      <td>0.0</td>\n",
       "      <td>0.000000</td>\n",
       "      <td>0.000000</td>\n",
       "    </tr>\n",
       "    <tr>\n",
       "      <th>1</th>\n",
       "      <td>0.0</td>\n",
       "      <td>0.000000</td>\n",
       "      <td>0.000000</td>\n",
       "    </tr>\n",
       "    <tr>\n",
       "      <th>2</th>\n",
       "      <td>5776.0</td>\n",
       "      <td>0.715227</td>\n",
       "      <td>0.715227</td>\n",
       "    </tr>\n",
       "    <tr>\n",
       "      <th>3</th>\n",
       "      <td>41344.0</td>\n",
       "      <td>5.119518</td>\n",
       "      <td>5.834745</td>\n",
       "    </tr>\n",
       "    <tr>\n",
       "      <th>4</th>\n",
       "      <td>50692.0</td>\n",
       "      <td>6.277056</td>\n",
       "      <td>12.111801</td>\n",
       "    </tr>\n",
       "    <tr>\n",
       "      <th>5</th>\n",
       "      <td>120992.0</td>\n",
       "      <td>14.982119</td>\n",
       "      <td>27.093921</td>\n",
       "    </tr>\n",
       "    <tr>\n",
       "      <th>6</th>\n",
       "      <td>131936.0</td>\n",
       "      <td>16.337286</td>\n",
       "      <td>43.431206</td>\n",
       "    </tr>\n",
       "    <tr>\n",
       "      <th>7</th>\n",
       "      <td>144096.0</td>\n",
       "      <td>17.843027</td>\n",
       "      <td>61.274233</td>\n",
       "    </tr>\n",
       "    <tr>\n",
       "      <th>8</th>\n",
       "      <td>117496.0</td>\n",
       "      <td>14.549219</td>\n",
       "      <td>75.823452</td>\n",
       "    </tr>\n",
       "    <tr>\n",
       "      <th>9</th>\n",
       "      <td>91276.0</td>\n",
       "      <td>11.302466</td>\n",
       "      <td>87.125918</td>\n",
       "    </tr>\n",
       "    <tr>\n",
       "      <th>10</th>\n",
       "      <td>50388.0</td>\n",
       "      <td>6.239413</td>\n",
       "      <td>93.365330</td>\n",
       "    </tr>\n",
       "    <tr>\n",
       "      <th>11</th>\n",
       "      <td>32300.0</td>\n",
       "      <td>3.999624</td>\n",
       "      <td>97.364954</td>\n",
       "    </tr>\n",
       "    <tr>\n",
       "      <th>12</th>\n",
       "      <td>13072.0</td>\n",
       "      <td>1.618671</td>\n",
       "      <td>98.983625</td>\n",
       "    </tr>\n",
       "    <tr>\n",
       "      <th>13</th>\n",
       "      <td>6308.0</td>\n",
       "      <td>0.781103</td>\n",
       "      <td>99.764728</td>\n",
       "    </tr>\n",
       "    <tr>\n",
       "      <th>14</th>\n",
       "      <td>1900.0</td>\n",
       "      <td>0.235272</td>\n",
       "      <td>100.000000</td>\n",
       "    </tr>\n",
       "  </tbody>\n",
       "</table>\n",
       "</div>"
      ],
      "text/plain": [
       "       Count          %  Cumulative %\n",
       "0        0.0   0.000000      0.000000\n",
       "1        0.0   0.000000      0.000000\n",
       "2     5776.0   0.715227      0.715227\n",
       "3    41344.0   5.119518      5.834745\n",
       "4    50692.0   6.277056     12.111801\n",
       "5   120992.0  14.982119     27.093921\n",
       "6   131936.0  16.337286     43.431206\n",
       "7   144096.0  17.843027     61.274233\n",
       "8   117496.0  14.549219     75.823452\n",
       "9    91276.0  11.302466     87.125918\n",
       "10   50388.0   6.239413     93.365330\n",
       "11   32300.0   3.999624     97.364954\n",
       "12   13072.0   1.618671     98.983625\n",
       "13    6308.0   0.781103     99.764728\n",
       "14    1900.0   0.235272    100.000000"
      ]
     },
     "execution_count": 25,
     "metadata": {},
     "output_type": "execute_result"
    }
   ],
   "source": [
    "print(hist)\n",
    "print(bins)\n",
    "total = sum(hist)\n",
    "cumulative_pct = 0\n",
    "table_data = []\n",
    "\n",
    "for entry in hist:\n",
    "    pct = entry / total * 100\n",
    "    cumulative_pct += pct\n",
    "    table_data.append([entry, pct, cumulative_pct])\n",
    "df = pd.DataFrame(table_data, columns=[\"Count\", \"%\", \"Cumulative %\"])\n",
    "df"
   ]
  },
  {
   "cell_type": "code",
   "execution_count": null,
   "metadata": {},
   "outputs": [],
   "source": []
  }
 ],
 "metadata": {
  "kernelspec": {
   "display_name": "Python 3",
   "language": "python",
   "name": "python3"
  },
  "language_info": {
   "codemirror_mode": {
    "name": "ipython",
    "version": 3
   },
   "file_extension": ".py",
   "mimetype": "text/x-python",
   "name": "python",
   "nbconvert_exporter": "python",
   "pygments_lexer": "ipython3",
   "version": "3.8.3"
  }
 },
 "nbformat": 4,
 "nbformat_minor": 4
}
