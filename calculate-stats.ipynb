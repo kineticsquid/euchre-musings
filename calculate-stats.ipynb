{
 "cells": [
  {
   "cell_type": "code",
   "execution_count": 3,
   "metadata": {},
   "outputs": [
    {
     "name": "stdout",
     "output_type": "stream",
     "text": [
      "Deck size: 24\n",
      "Hand size: 5\n",
      "Calculated combinations: 42504\n",
      "Enumerated combinations: 42504\n",
      "[('10', 'Diamonds'), ('Jack', 'Diamonds'), ('Jack', 'Spades'), ('Ace', 'Spades'), ('Ace', 'Clubs')]\n",
      "('King', 'Spades')\n",
      "Dealer score: 11\n",
      "Non-dealer score: 7\n",
      "Second round score: 9\n",
      "[('10', 'Hearts'), ('Ace', 'Hearts'), ('9', 'Diamonds'), ('9', 'Clubs'), ('King', 'Clubs')]\n",
      "('Ace', 'Clubs')\n",
      "Dealer score: 8\n",
      "Non-dealer score: 2\n",
      "Second round score: 5\n",
      "[('Ace', 'Hearts'), ('9', 'Diamonds'), ('10', 'Diamonds'), ('9', 'Clubs'), ('10', 'Clubs')]\n",
      "('10', 'Spades')\n",
      "Dealer score: 3\n",
      "Non-dealer score: 1\n",
      "Second round score: 4\n",
      "[('Queen', 'Hearts'), ('10', 'Diamonds'), ('Jack', 'Diamonds'), ('Queen', 'Diamonds'), ('9', 'Spades')]\n",
      "('10', 'Hearts')\n",
      "Dealer score: 6\n",
      "Non-dealer score: 4\n",
      "Second round score: 7\n",
      "[('10', 'Hearts'), ('Jack', 'Hearts'), ('10', 'Diamonds'), ('9', 'Spades'), ('King', 'Spades')]\n",
      "('Queen', 'Diamonds')\n",
      "Dealer score: 6\n",
      "Non-dealer score: 2\n",
      "Second round score: 5\n",
      "[('9', 'Hearts'), ('10', 'Diamonds'), ('King', 'Diamonds'), ('9', 'Clubs'), ('10', 'Clubs')]\n",
      "('Jack', 'Clubs')\n",
      "Dealer score: 6\n",
      "Non-dealer score: -2\n",
      "Second round score: 3\n",
      "[('10', 'Hearts'), ('Ace', 'Diamonds'), ('Jack', 'Spades'), ('King', 'Spades'), ('9', 'Clubs')]\n",
      "('Queen', 'Clubs')\n",
      "Dealer score: 8\n",
      "Non-dealer score: 4\n",
      "Second round score: 8\n",
      "[('9', 'Hearts'), ('Queen', 'Hearts'), ('King', 'Hearts'), ('Ace', 'Hearts'), ('Queen', 'Diamonds')]\n",
      "('10', 'Clubs')\n",
      "Dealer score: 4\n",
      "Non-dealer score: 2\n",
      "Second round score: 9\n",
      "[('9', 'Hearts'), ('10', 'Hearts'), ('10', 'Diamonds'), ('Ace', 'Diamonds'), ('King', 'Spades')]\n",
      "('9', 'Diamonds')\n",
      "Dealer score: 5\n",
      "Non-dealer score: 3\n",
      "Second round score: 4\n"
     ]
    },
    {
     "ename": "ModuleNotFoundError",
     "evalue": "No module named 'average_hand_score.py'; 'average_hand_score' is not a package",
     "output_type": "error",
     "traceback": [
      "\u001b[0;31m---------------------------------------------------------------------------\u001b[0m",
      "\u001b[0;31mModuleNotFoundError\u001b[0m                       Traceback (most recent call last)",
      "\u001b[0;32m<ipython-input-3-622aa58c50cf>\u001b[0m in \u001b[0;36m<module>\u001b[0;34m\u001b[0m\n\u001b[1;32m      2\u001b[0m \u001b[0;32mimport\u001b[0m \u001b[0mmatplotlib\u001b[0m\u001b[0;34m.\u001b[0m\u001b[0mpyplot\u001b[0m \u001b[0;32mas\u001b[0m \u001b[0mplt\u001b[0m\u001b[0;34m\u001b[0m\u001b[0;34m\u001b[0m\u001b[0m\n\u001b[1;32m      3\u001b[0m \u001b[0;32mimport\u001b[0m \u001b[0mpandas\u001b[0m \u001b[0;32mas\u001b[0m \u001b[0mpd\u001b[0m\u001b[0;34m\u001b[0m\u001b[0;34m\u001b[0m\u001b[0m\n\u001b[0;32m----> 4\u001b[0;31m \u001b[0;32mimport\u001b[0m \u001b[0maverage_hand_score\u001b[0m\u001b[0;34m.\u001b[0m\u001b[0mpy\u001b[0m\u001b[0;34m\u001b[0m\u001b[0;34m\u001b[0m\u001b[0m\n\u001b[0m",
      "\u001b[0;31mModuleNotFoundError\u001b[0m: No module named 'average_hand_score.py'; 'average_hand_score' is not a package"
     ]
    }
   ],
   "source": [
    "import numpy as np\n",
    "import matplotlib.pyplot as plt\n",
    "import pandas as pd\n",
    "import average_hand_score.py"
   ]
  },
  {
   "cell_type": "code",
   "execution_count": 4,
   "metadata": {},
   "outputs": [],
   "source": [
    "counts = [1, 2, 3]"
   ]
  },
  {
   "cell_type": "code",
   "execution_count": 5,
   "metadata": {},
   "outputs": [
    {
     "name": "stdout",
     "output_type": "stream",
     "text": [
      "2.0\n"
     ]
    }
   ],
   "source": [
    "print(np.mean(counts))"
   ]
  },
  {
   "cell_type": "code",
   "execution_count": null,
   "metadata": {},
   "outputs": [],
   "source": []
  }
 ],
 "metadata": {
  "kernelspec": {
   "display_name": "Python 3",
   "language": "python",
   "name": "python3"
  },
  "language_info": {
   "codemirror_mode": {
    "name": "ipython",
    "version": 3
   },
   "file_extension": ".py",
   "mimetype": "text/x-python",
   "name": "python",
   "nbconvert_exporter": "python",
   "pygments_lexer": "ipython3",
   "version": "3.8.3"
  }
 },
 "nbformat": 4,
 "nbformat_minor": 4
}
